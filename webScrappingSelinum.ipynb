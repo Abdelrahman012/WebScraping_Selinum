{
 "cells": [
  {
   "cell_type": "code",
   "execution_count": 23,
   "source": [
    "from selenium import webdriver\r\n",
    "import csv "
   ],
   "outputs": [],
   "metadata": {}
  },
  {
   "cell_type": "code",
   "execution_count": 24,
   "source": [
    "driver=webdriver.Chrome(executable_path=\"E:\\chromedriver.exe\")\r\n",
    "driver.get(\"https://egypt.souq.com/eg-en/samsung/s/?as=1&section=2&page=1\")\r\n",
    "products=driver.find_elements_by_xpath(\"//h1[@class='itemTitle']\")\r\n",
    "prices=driver.find_elements_by_xpath(\"//h3[@class='itemPrice']\")"
   ],
   "outputs": [],
   "metadata": {}
  },
  {
   "cell_type": "code",
   "execution_count": null,
   "source": [
    "for i in products:\r\n",
    "    print(i.)"
   ],
   "outputs": [],
   "metadata": {}
  },
  {
   "cell_type": "code",
   "execution_count": 27,
   "source": [
    "with open(\"E:\\\\Souq.csv\",\"w\",encoding=\"utf-8\",newline='') as my_file:\r\n",
    "    data=csv.writer(my_file,delimiter=\",\")\r\n",
    "    data.writerow([\"Products\",\"prices\"]) \r\n",
    "\r\n",
    "    for i in range(0,len(products)):\r\n",
    "        data.writerow([products[i].text,prices[i].text])\r\n",
    "    "
   ],
   "outputs": [],
   "metadata": {}
  },
  {
   "cell_type": "code",
   "execution_count": null,
   "source": [],
   "outputs": [],
   "metadata": {}
  }
 ],
 "metadata": {
  "orig_nbformat": 4,
  "language_info": {
   "name": "python",
   "version": "3.9.6",
   "mimetype": "text/x-python",
   "codemirror_mode": {
    "name": "ipython",
    "version": 3
   },
   "pygments_lexer": "ipython3",
   "nbconvert_exporter": "python",
   "file_extension": ".py"
  },
  "kernelspec": {
   "name": "python3",
   "display_name": "Python 3.9.5 64-bit"
  },
  "interpreter": {
   "hash": "c3a76a8d0931fa182067fc95bd732722c59ffb4a77c036e4a9d41c51c370cfdc"
  }
 },
 "nbformat": 4,
 "nbformat_minor": 2
}